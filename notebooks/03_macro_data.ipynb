{
 "cells": [
  {
   "cell_type": "code",
   "execution_count": 1,
   "metadata": {},
   "outputs": [
    {
     "name": "stderr",
     "output_type": "stream",
     "text": [
      "/Users/dabereabasse/Library/Python/3.9/lib/python/site-packages/urllib3/__init__.py:34: NotOpenSSLWarning: urllib3 v2 only supports OpenSSL 1.1.1+, currently the 'ssl' module is compiled with 'LibreSSL 2.8.3'. See: https://github.com/urllib3/urllib3/issues/3020\n",
      "  warnings.warn(\n",
      "[*********************100%%**********************]  1 of 1 completed\n",
      "[*********************100%%**********************]  1 of 1 completed\n"
     ]
    }
   ],
   "source": [
    "import yfinance as yf\n",
    "\n",
    "# Télécharger les données pour des indices économiques\n",
    "vix = yf.download('^VIX', interval='1h', start=\"2023-01-01\", end=\"2023-12-31\")  # Volatilité implicite\n",
    "bond_yields = yf.download('^IRX', interval='1h', start=\"2023-01-01\", end=\"2023-12-31\")  # Taux des bons du Trésor US à 3 mois"
   ]
  },
  {
   "cell_type": "code",
   "execution_count": 2,
   "metadata": {},
   "outputs": [
    {
     "data": {
      "text/html": [
       "<div>\n",
       "<style scoped>\n",
       "    .dataframe tbody tr th:only-of-type {\n",
       "        vertical-align: middle;\n",
       "    }\n",
       "\n",
       "    .dataframe tbody tr th {\n",
       "        vertical-align: top;\n",
       "    }\n",
       "\n",
       "    .dataframe thead th {\n",
       "        text-align: right;\n",
       "    }\n",
       "</style>\n",
       "<table border=\"1\" class=\"dataframe\">\n",
       "  <thead>\n",
       "    <tr style=\"text-align: right;\">\n",
       "      <th></th>\n",
       "      <th>Open</th>\n",
       "      <th>High</th>\n",
       "      <th>Low</th>\n",
       "      <th>Close</th>\n",
       "      <th>Adj Close</th>\n",
       "      <th>Volume</th>\n",
       "    </tr>\n",
       "    <tr>\n",
       "      <th>Datetime</th>\n",
       "      <th></th>\n",
       "      <th></th>\n",
       "      <th></th>\n",
       "      <th></th>\n",
       "      <th></th>\n",
       "      <th></th>\n",
       "    </tr>\n",
       "  </thead>\n",
       "  <tbody>\n",
       "    <tr>\n",
       "      <th>2023-01-03 02:00:00-06:00</th>\n",
       "      <td>23.090000</td>\n",
       "      <td>23.110001</td>\n",
       "      <td>22.99</td>\n",
       "      <td>23.000000</td>\n",
       "      <td>23.000000</td>\n",
       "      <td>0</td>\n",
       "    </tr>\n",
       "    <tr>\n",
       "      <th>2023-01-03 03:00:00-06:00</th>\n",
       "      <td>22.990000</td>\n",
       "      <td>23.010000</td>\n",
       "      <td>22.74</td>\n",
       "      <td>22.790001</td>\n",
       "      <td>22.790001</td>\n",
       "      <td>0</td>\n",
       "    </tr>\n",
       "    <tr>\n",
       "      <th>2023-01-03 04:00:00-06:00</th>\n",
       "      <td>22.790001</td>\n",
       "      <td>22.950001</td>\n",
       "      <td>22.77</td>\n",
       "      <td>22.920000</td>\n",
       "      <td>22.920000</td>\n",
       "      <td>0</td>\n",
       "    </tr>\n",
       "    <tr>\n",
       "      <th>2023-01-03 05:00:00-06:00</th>\n",
       "      <td>22.930000</td>\n",
       "      <td>22.930000</td>\n",
       "      <td>22.83</td>\n",
       "      <td>22.910000</td>\n",
       "      <td>22.910000</td>\n",
       "      <td>0</td>\n",
       "    </tr>\n",
       "    <tr>\n",
       "      <th>2023-01-03 06:00:00-06:00</th>\n",
       "      <td>22.910000</td>\n",
       "      <td>23.280001</td>\n",
       "      <td>22.90</td>\n",
       "      <td>23.190001</td>\n",
       "      <td>23.190001</td>\n",
       "      <td>0</td>\n",
       "    </tr>\n",
       "  </tbody>\n",
       "</table>\n",
       "</div>"
      ],
      "text/plain": [
       "                                Open       High    Low      Close  Adj Close  \\\n",
       "Datetime                                                                       \n",
       "2023-01-03 02:00:00-06:00  23.090000  23.110001  22.99  23.000000  23.000000   \n",
       "2023-01-03 03:00:00-06:00  22.990000  23.010000  22.74  22.790001  22.790001   \n",
       "2023-01-03 04:00:00-06:00  22.790001  22.950001  22.77  22.920000  22.920000   \n",
       "2023-01-03 05:00:00-06:00  22.930000  22.930000  22.83  22.910000  22.910000   \n",
       "2023-01-03 06:00:00-06:00  22.910000  23.280001  22.90  23.190001  23.190001   \n",
       "\n",
       "                           Volume  \n",
       "Datetime                           \n",
       "2023-01-03 02:00:00-06:00       0  \n",
       "2023-01-03 03:00:00-06:00       0  \n",
       "2023-01-03 04:00:00-06:00       0  \n",
       "2023-01-03 05:00:00-06:00       0  \n",
       "2023-01-03 06:00:00-06:00       0  "
      ]
     },
     "execution_count": 2,
     "metadata": {},
     "output_type": "execute_result"
    }
   ],
   "source": [
    "vix.head()"
   ]
  },
  {
   "cell_type": "code",
   "execution_count": 3,
   "metadata": {},
   "outputs": [
    {
     "data": {
      "text/html": [
       "<div>\n",
       "<style scoped>\n",
       "    .dataframe tbody tr th:only-of-type {\n",
       "        vertical-align: middle;\n",
       "    }\n",
       "\n",
       "    .dataframe tbody tr th {\n",
       "        vertical-align: top;\n",
       "    }\n",
       "\n",
       "    .dataframe thead th {\n",
       "        text-align: right;\n",
       "    }\n",
       "</style>\n",
       "<table border=\"1\" class=\"dataframe\">\n",
       "  <thead>\n",
       "    <tr style=\"text-align: right;\">\n",
       "      <th></th>\n",
       "      <th>Open</th>\n",
       "      <th>High</th>\n",
       "      <th>Low</th>\n",
       "      <th>Close</th>\n",
       "      <th>Adj Close</th>\n",
       "      <th>Volume</th>\n",
       "    </tr>\n",
       "    <tr>\n",
       "      <th>Datetime</th>\n",
       "      <th></th>\n",
       "      <th></th>\n",
       "      <th></th>\n",
       "      <th></th>\n",
       "      <th></th>\n",
       "      <th></th>\n",
       "    </tr>\n",
       "  </thead>\n",
       "  <tbody>\n",
       "    <tr>\n",
       "      <th>2023-01-03 07:20:00-06:00</th>\n",
       "      <td>4.260</td>\n",
       "      <td>4.260</td>\n",
       "      <td>4.250</td>\n",
       "      <td>4.250</td>\n",
       "      <td>4.250</td>\n",
       "      <td>0</td>\n",
       "    </tr>\n",
       "    <tr>\n",
       "      <th>2023-01-03 08:20:00-06:00</th>\n",
       "      <td>4.250</td>\n",
       "      <td>4.260</td>\n",
       "      <td>4.250</td>\n",
       "      <td>4.258</td>\n",
       "      <td>4.258</td>\n",
       "      <td>0</td>\n",
       "    </tr>\n",
       "    <tr>\n",
       "      <th>2023-01-03 09:20:00-06:00</th>\n",
       "      <td>4.258</td>\n",
       "      <td>4.258</td>\n",
       "      <td>4.225</td>\n",
       "      <td>4.243</td>\n",
       "      <td>4.243</td>\n",
       "      <td>0</td>\n",
       "    </tr>\n",
       "    <tr>\n",
       "      <th>2023-01-03 10:20:00-06:00</th>\n",
       "      <td>4.243</td>\n",
       "      <td>4.248</td>\n",
       "      <td>4.228</td>\n",
       "      <td>4.248</td>\n",
       "      <td>4.248</td>\n",
       "      <td>0</td>\n",
       "    </tr>\n",
       "    <tr>\n",
       "      <th>2023-01-03 11:20:00-06:00</th>\n",
       "      <td>4.248</td>\n",
       "      <td>4.258</td>\n",
       "      <td>4.238</td>\n",
       "      <td>4.248</td>\n",
       "      <td>4.248</td>\n",
       "      <td>0</td>\n",
       "    </tr>\n",
       "  </tbody>\n",
       "</table>\n",
       "</div>"
      ],
      "text/plain": [
       "                            Open   High    Low  Close  Adj Close  Volume\n",
       "Datetime                                                                \n",
       "2023-01-03 07:20:00-06:00  4.260  4.260  4.250  4.250      4.250       0\n",
       "2023-01-03 08:20:00-06:00  4.250  4.260  4.250  4.258      4.258       0\n",
       "2023-01-03 09:20:00-06:00  4.258  4.258  4.225  4.243      4.243       0\n",
       "2023-01-03 10:20:00-06:00  4.243  4.248  4.228  4.248      4.248       0\n",
       "2023-01-03 11:20:00-06:00  4.248  4.258  4.238  4.248      4.248       0"
      ]
     },
     "execution_count": 3,
     "metadata": {},
     "output_type": "execute_result"
    }
   ],
   "source": [
    "bond_yields.head()"
   ]
  },
  {
   "cell_type": "code",
   "execution_count": 26,
   "metadata": {},
   "outputs": [
    {
     "name": "stdout",
     "output_type": "stream",
     "text": [
      "               GDP  Unemployment   Population\n",
      "date                                         \n",
      "2023  2.736094e+13         3.625  334914895.0\n",
      "2022  2.574411e+13         3.650  333271411.0\n",
      "2021  2.359403e+13         5.349  332048977.0\n",
      "2020  2.132295e+13         8.055  331526933.0\n",
      "2019  2.152140e+13         3.669  328329953.0\n"
     ]
    }
   ],
   "source": [
    "from wbdata import get_dataframe\n",
    "import datetime\n",
    "\n",
    "# Sélectionner des indicateurs (par exemple, PIB, taux de chômage)\n",
    "indicators = {'NY.GDP.MKTP.CD': 'GDP', 'SL.UEM.TOTL.ZS': 'Unemployment', 'SP.POP.TOTL': 'Population'}\n",
    "\n",
    "# Télécharger les données de 2020 à 2023 pour les États-Unis\n",
    "data = get_dataframe(indicators, country='USA', date=(datetime.datetime(2010, 1, 1), datetime.datetime(2023, 12, 31)))\n",
    "print(data.head())\n"
   ]
  },
  {
   "cell_type": "code",
   "execution_count": null,
   "metadata": {},
   "outputs": [],
   "source": []
  }
 ],
 "metadata": {
  "kernelspec": {
   "display_name": "Python 3",
   "language": "python",
   "name": "python3"
  },
  "language_info": {
   "codemirror_mode": {
    "name": "ipython",
    "version": 3
   },
   "file_extension": ".py",
   "mimetype": "text/x-python",
   "name": "python",
   "nbconvert_exporter": "python",
   "pygments_lexer": "ipython3",
   "version": "3.9.6"
  }
 },
 "nbformat": 4,
 "nbformat_minor": 2
}
