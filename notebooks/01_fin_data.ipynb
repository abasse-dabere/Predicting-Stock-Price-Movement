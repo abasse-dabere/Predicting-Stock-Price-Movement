{
 "cells": [
  {
   "cell_type": "code",
   "execution_count": 1,
   "metadata": {},
   "outputs": [
    {
     "name": "stderr",
     "output_type": "stream",
     "text": [
      "/Users/dabereabasse/Library/Python/3.9/lib/python/site-packages/urllib3/__init__.py:34: NotOpenSSLWarning: urllib3 v2 only supports OpenSSL 1.1.1+, currently the 'ssl' module is compiled with 'LibreSSL 2.8.3'. See: https://github.com/urllib3/urllib3/issues/3020\n",
      "  warnings.warn(\n"
     ]
    }
   ],
   "source": [
    "import yfinance as yf\n",
    "import pandas as pd"
   ]
  },
  {
   "cell_type": "code",
   "execution_count": 20,
   "metadata": {},
   "outputs": [
    {
     "name": "stderr",
     "output_type": "stream",
     "text": [
      "[*********************100%%**********************]  1 of 1 completed\n"
     ]
    }
   ],
   "source": [
    "# Download Apple stock data at 1 hour intervals\n",
    "start_date = \"2023-01-01\"\n",
    "end_date = \"2024-11-30\"\n",
    "\n",
    "data = yf.download(tickers='AAPL', interval='1h', start=start_date, end=end_date)"
   ]
  },
  {
   "cell_type": "code",
   "execution_count": 21,
   "metadata": {},
   "outputs": [
    {
     "data": {
      "text/html": [
       "<div>\n",
       "<style scoped>\n",
       "    .dataframe tbody tr th:only-of-type {\n",
       "        vertical-align: middle;\n",
       "    }\n",
       "\n",
       "    .dataframe tbody tr th {\n",
       "        vertical-align: top;\n",
       "    }\n",
       "\n",
       "    .dataframe thead th {\n",
       "        text-align: right;\n",
       "    }\n",
       "</style>\n",
       "<table border=\"1\" class=\"dataframe\">\n",
       "  <thead>\n",
       "    <tr style=\"text-align: right;\">\n",
       "      <th></th>\n",
       "      <th>Date</th>\n",
       "      <th>Close</th>\n",
       "    </tr>\n",
       "  </thead>\n",
       "  <tbody>\n",
       "    <tr>\n",
       "      <th>0</th>\n",
       "      <td>2023-01-03 09:30:00-05:00</td>\n",
       "      <td>125.459999</td>\n",
       "    </tr>\n",
       "    <tr>\n",
       "      <th>1</th>\n",
       "      <td>2023-01-03 10:30:00-05:00</td>\n",
       "      <td>125.345001</td>\n",
       "    </tr>\n",
       "    <tr>\n",
       "      <th>2</th>\n",
       "      <td>2023-01-03 11:30:00-05:00</td>\n",
       "      <td>124.660004</td>\n",
       "    </tr>\n",
       "    <tr>\n",
       "      <th>3</th>\n",
       "      <td>2023-01-03 12:30:00-05:00</td>\n",
       "      <td>124.649902</td>\n",
       "    </tr>\n",
       "    <tr>\n",
       "      <th>4</th>\n",
       "      <td>2023-01-03 13:30:00-05:00</td>\n",
       "      <td>124.570000</td>\n",
       "    </tr>\n",
       "  </tbody>\n",
       "</table>\n",
       "</div>"
      ],
      "text/plain": [
       "                       Date       Close\n",
       "0 2023-01-03 09:30:00-05:00  125.459999\n",
       "1 2023-01-03 10:30:00-05:00  125.345001\n",
       "2 2023-01-03 11:30:00-05:00  124.660004\n",
       "3 2023-01-03 12:30:00-05:00  124.649902\n",
       "4 2023-01-03 13:30:00-05:00  124.570000"
      ]
     },
     "execution_count": 21,
     "metadata": {},
     "output_type": "execute_result"
    }
   ],
   "source": [
    "# Convert index to column\n",
    "data.reset_index(inplace=True)\n",
    "data['Date'] = pd.to_datetime(data['Datetime'])\n",
    "\n",
    "# Keep only the closing price\n",
    "data = data[['Date', 'Close']]\n",
    "data.head()"
   ]
  },
  {
   "cell_type": "code",
   "execution_count": null,
   "metadata": {},
   "outputs": [],
   "source": [
    "# Calculate indicators\n",
    "def rate_of_change(data, period):\n",
    "    return data['Close'].pct_change(periods=period) * 100\n",
    "\n",
    "def relative_strength_index(data, period):\n",
    "    delta = data['Close'].diff()\n",
    "    gain = (delta.where(delta > 0, 0)).rolling(window=period).mean()\n",
    "    loss = (-delta.where(delta < 0, 0)).rolling(window=period).mean()\n",
    "    RS = gain / loss\n",
    "    return 100 - (100 / (1 + RS))\n",
    "\n",
    "def rolling_standard_deviation(data, period):\n",
    "    return data['Close'].rolling(window=period).std()"
   ]
  },
  {
   "cell_type": "code",
   "execution_count": 24,
   "metadata": {},
   "outputs": [],
   "source": [
    "data['ROC_1'] = rate_of_change(data, 1)\n",
    "data['ROC_2'] = rate_of_change(data, 2)\n",
    "data['RSI_14'] = relative_strength_index(data, 14)\n",
    "data['RSI_28'] = relative_strength_index(data, 28)\n",
    "data['STD_14'] = rolling_standard_deviation(data, 14)\n",
    "data['STD_28'] = rolling_standard_deviation(data, 28)\n",
    "\n",
    "data = data.dropna()"
   ]
  },
  {
   "cell_type": "code",
   "execution_count": 25,
   "metadata": {},
   "outputs": [
    {
     "data": {
      "text/html": [
       "<div>\n",
       "<style scoped>\n",
       "    .dataframe tbody tr th:only-of-type {\n",
       "        vertical-align: middle;\n",
       "    }\n",
       "\n",
       "    .dataframe tbody tr th {\n",
       "        vertical-align: top;\n",
       "    }\n",
       "\n",
       "    .dataframe thead th {\n",
       "        text-align: right;\n",
       "    }\n",
       "</style>\n",
       "<table border=\"1\" class=\"dataframe\">\n",
       "  <thead>\n",
       "    <tr style=\"text-align: right;\">\n",
       "      <th></th>\n",
       "      <th>Date</th>\n",
       "      <th>Close</th>\n",
       "      <th>ROC_1</th>\n",
       "      <th>ROC_2</th>\n",
       "      <th>RSI_14</th>\n",
       "      <th>RSI_28</th>\n",
       "      <th>STD_14</th>\n",
       "      <th>STD_28</th>\n",
       "    </tr>\n",
       "  </thead>\n",
       "  <tbody>\n",
       "    <tr>\n",
       "      <th>54</th>\n",
       "      <td>2023-01-12 14:30:00-05:00</td>\n",
       "      <td>133.184998</td>\n",
       "      <td>-0.009382</td>\n",
       "      <td>0.282358</td>\n",
       "      <td>66.767942</td>\n",
       "      <td>60.061781</td>\n",
       "      <td>0.804610</td>\n",
       "      <td>1.517032</td>\n",
       "    </tr>\n",
       "    <tr>\n",
       "      <th>55</th>\n",
       "      <td>2023-01-12 15:30:00-05:00</td>\n",
       "      <td>133.389999</td>\n",
       "      <td>0.153923</td>\n",
       "      <td>0.144526</td>\n",
       "      <td>65.251272</td>\n",
       "      <td>60.506327</td>\n",
       "      <td>0.602820</td>\n",
       "      <td>1.486625</td>\n",
       "    </tr>\n",
       "    <tr>\n",
       "      <th>56</th>\n",
       "      <td>2023-01-13 09:30:00-05:00</td>\n",
       "      <td>133.509995</td>\n",
       "      <td>0.089958</td>\n",
       "      <td>0.244019</td>\n",
       "      <td>59.926644</td>\n",
       "      <td>53.049848</td>\n",
       "      <td>0.573241</td>\n",
       "      <td>1.514103</td>\n",
       "    </tr>\n",
       "    <tr>\n",
       "      <th>57</th>\n",
       "      <td>2023-01-13 10:30:00-05:00</td>\n",
       "      <td>133.029999</td>\n",
       "      <td>-0.359520</td>\n",
       "      <td>-0.269886</td>\n",
       "      <td>58.790865</td>\n",
       "      <td>49.822009</td>\n",
       "      <td>0.438099</td>\n",
       "      <td>1.512512</td>\n",
       "    </tr>\n",
       "    <tr>\n",
       "      <th>58</th>\n",
       "      <td>2023-01-13 11:30:00-05:00</td>\n",
       "      <td>133.510101</td>\n",
       "      <td>0.360898</td>\n",
       "      <td>0.000080</td>\n",
       "      <td>55.061219</td>\n",
       "      <td>52.453438</td>\n",
       "      <td>0.445965</td>\n",
       "      <td>1.535557</td>\n",
       "    </tr>\n",
       "  </tbody>\n",
       "</table>\n",
       "</div>"
      ],
      "text/plain": [
       "                        Date       Close     ROC_1     ROC_2     RSI_14  \\\n",
       "54 2023-01-12 14:30:00-05:00  133.184998 -0.009382  0.282358  66.767942   \n",
       "55 2023-01-12 15:30:00-05:00  133.389999  0.153923  0.144526  65.251272   \n",
       "56 2023-01-13 09:30:00-05:00  133.509995  0.089958  0.244019  59.926644   \n",
       "57 2023-01-13 10:30:00-05:00  133.029999 -0.359520 -0.269886  58.790865   \n",
       "58 2023-01-13 11:30:00-05:00  133.510101  0.360898  0.000080  55.061219   \n",
       "\n",
       "       RSI_28    STD_14    STD_28  \n",
       "54  60.061781  0.804610  1.517032  \n",
       "55  60.506327  0.602820  1.486625  \n",
       "56  53.049848  0.573241  1.514103  \n",
       "57  49.822009  0.438099  1.512512  \n",
       "58  52.453438  0.445965  1.535557  "
      ]
     },
     "execution_count": 25,
     "metadata": {},
     "output_type": "execute_result"
    }
   ],
   "source": [
    "data.head()"
   ]
  },
  {
   "cell_type": "code",
   "execution_count": null,
   "metadata": {},
   "outputs": [],
   "source": []
  }
 ],
 "metadata": {
  "kernelspec": {
   "display_name": "Python 3",
   "language": "python",
   "name": "python3"
  },
  "language_info": {
   "codemirror_mode": {
    "name": "ipython",
    "version": 3
   },
   "file_extension": ".py",
   "mimetype": "text/x-python",
   "name": "python",
   "nbconvert_exporter": "python",
   "pygments_lexer": "ipython3",
   "version": "3.9.6"
  }
 },
 "nbformat": 4,
 "nbformat_minor": 2
}
